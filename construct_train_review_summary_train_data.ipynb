{
 "cells": [
  {
   "cell_type": "code",
   "execution_count": null,
   "metadata": {},
   "outputs": [],
   "source": [
    "import pandas as pd\n",
    "from tqdm import tqdm\n",
    "import pickle\n",
    "\n",
    "# product_class = 'Book'\n",
    "# product_class = 'Yelp Business'\n",
    "product_class = 'Digital Music'\n",
    "data_df = pd.read_pickle('./dataset/Music_data/train_review_summary.pkl')\n",
    "data_df = data_df.sample(n=8000, random_state=42).reset_index(drop=True)\n",
    "\n",
    "review_smummary_prompt = f\"\"\"Task: Summarize the reasons behind the given rating of a @@@class### based on the customer review.\n",
    "@@@class###: @@@title###\n",
    "Rating: @@@rating###\n",
    "Review: @@@review###\n",
    "\n",
    "Analyze the above customer review for the @@@class### '@@@title###' and summarize the reasons behind the given rating of @@@rating###. Please consider the positive and negative aspects mentioned in the review and provide the keywords of reasons and user preference elements.\n",
    "\n",
    "[Example]\n",
    "Product: Wireless Bluetooth Headphones\n",
    "Review: I absolutely love these wireless Bluetooth headphones. They are incredibly lightweight and comfortable to wear, with a long battery life. The sound quality is clear, with deep bass and crisp highs. However, the charging case is prone to scratches, and sometimes the connection is unstable. Overall, I'm very satisfied; they are worth the price.\n",
    "Output:\n",
    "Positive Aspects: Comfortable, Lightweight, Long Battery Life, Clear Sound, Deep Bass, Crisp Highs\n",
    "Negative Aspects: Scratch-Prone Case, Unstable Connection\n",
    "User Preference Elements: Durability, Aesthetic Appeal, Reliability, Value for Money\n",
    "\n",
    "Give your reply following the example output format. Directly give Positive Aspects, Negative Aspects, and User Preference Elements without other content.\n",
    "\"\"\"\n",
    "review_smummary_prompt = review_smummary_prompt.replace('@@@class###', product_class)\n",
    "\n",
    "train_data = []\n",
    "for idx, row in tqdm(data_df.iterrows(), total=len(data_df)):\n",
    "    review = row['reviews']\n",
    "    title = row['title']\n",
    "    rating = row['ratings']\n",
    "    prompt = review_smummary_prompt.replace('@@@title###', title)\n",
    "    prompt = prompt.replace('@@@review###', review)\n",
    "    prompt = prompt.replace('@@@rating###', str(rating))\n",
    "    train_data.append({\n",
    "        \"messages\": [\n",
    "            {\n",
    "                \"role\": \"user\",\n",
    "                \"content\": prompt\n",
    "            },\n",
    "            {\n",
    "                \"role\": \"assistant\",\n",
    "                \"content\": row['review_summary']\n",
    "            }   \n",
    "        ]\n",
    "    })\n",
    "\n",
    "pickle.dump(train_data, open(f'Music_review_summary_train_12000.pkl', 'wb'))"
   ]
  }
 ],
 "metadata": {
  "kernelspec": {
   "display_name": "my_unsloth",
   "language": "python",
   "name": "python3"
  },
  "language_info": {
   "codemirror_mode": {
    "name": "ipython",
    "version": 3
   },
   "file_extension": ".py",
   "mimetype": "text/x-python",
   "name": "python",
   "nbconvert_exporter": "python",
   "pygments_lexer": "ipython3",
   "version": "3.10.14"
  }
 },
 "nbformat": 4,
 "nbformat_minor": 2
}
