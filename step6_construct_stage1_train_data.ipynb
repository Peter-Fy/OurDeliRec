{
 "cells": [
  {
   "cell_type": "code",
   "execution_count": null,
   "metadata": {},
   "outputs": [],
   "source": [
    "from utils import chat_with_gpt\n",
    "import pandas as pd\n",
    "from tqdm import tqdm\n",
    "import os\n",
    "import sys\n",
    "import re\n",
    "import pickle\n",
    "import random\n",
    "\n",
    "# dataset = 'Book_data'\n",
    "# product_class = 'Book'\n",
    "dataset = 'Yelp_data'\n",
    "product_class = 'Yelp Business'\n",
    "\n",
    "data_df = pd.read_pickle(f'./dataset/{dataset}/formal_2_round_sample_answers/good_reason_after_2_rounds.pkl')\n",
    "\n",
    "train_data = []\n",
    "for idx, row in tqdm(data_df.iterrows(), total=len(data_df)):\n",
    "    train_data.append({\n",
    "        \"messages\": [\n",
    "            {\n",
    "                \"role\": \"user\",\n",
    "                \"content\": row['stage1_question']\n",
    "            },\n",
    "            {\n",
    "                \"role\": \"assistant\",\n",
    "                \"content\": row['personalized_analysis']\n",
    "            }   \n",
    "        ]\n",
    "    })\n",
    "\n",
    "pickle.dump(train_data, open(f'./train_instruct_data/{dataset}/stage1_train/train.pkl', 'wb'))"
   ]
  }
 ],
 "metadata": {
  "kernelspec": {
   "display_name": "my_unsloth",
   "language": "python",
   "name": "python3"
  },
  "language_info": {
   "codemirror_mode": {
    "name": "ipython",
    "version": 3
   },
   "file_extension": ".py",
   "mimetype": "text/x-python",
   "name": "python",
   "nbconvert_exporter": "python",
   "pygments_lexer": "ipython3",
   "version": "3.10.14"
  }
 },
 "nbformat": 4,
 "nbformat_minor": 2
}
