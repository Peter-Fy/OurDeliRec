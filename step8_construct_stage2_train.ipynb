{
 "cells": [
  {
   "cell_type": "code",
   "execution_count": null,
   "metadata": {},
   "outputs": [],
   "source": [
    "import pandas as pd\n",
    "from tqdm import tqdm\n",
    "import pickle\n",
    "\n",
    "# dataset = 'Book_data'\n",
    "# product_class = 'Book'\n",
    "dataset = 'Yelp_data'\n",
    "checkpoint = 'epoch3'\n",
    "data_df = pd.read_pickle(f'./dataset/{dataset}/{checkpoint}_generate_stage1_train.pkl')\n",
    "\n",
    "train_data = []\n",
    "for idx, row in tqdm(data_df.iterrows(), total=len(data_df)):\n",
    "    question = row['stage2_prompt']\n",
    "    target_rating = row['ratings']\n",
    "    question = question.replace('@@@reasoning###', row[f'llama_stage1_reply'])\n",
    "    train_data.append({\n",
    "        \"messages\": [\n",
    "            {\n",
    "                \"role\": \"user\",\n",
    "                \"content\": question\n",
    "            },\n",
    "            {\n",
    "                \"role\": \"assistant\",\n",
    "                \"content\": f\"Predicted Rating: {float(target_rating):.1f}\"\n",
    "            }   \n",
    "        ]\n",
    "    })\n",
    "\n",
    "pickle.dump(train_data, open(f'./train_instruct_data/{dataset}/stage2_{checkpoint}_train/train.pkl', 'wb'))"
   ]
  },
  {
   "cell_type": "code",
   "execution_count": null,
   "metadata": {},
   "outputs": [],
   "source": [
    "print(train_data[11]['messages'][1]['content'])"
   ]
  },
  {
   "cell_type": "code",
   "execution_count": null,
   "metadata": {},
   "outputs": [],
   "source": [
    "import pandas as pd\n",
    "from tqdm import tqdm\n",
    "import pickle\n",
    "\n",
    "dataset = 'Book_data'\n",
    "# product_class = 'Book'\n",
    "# dataset = 'Yelp_data'\n",
    "checkpoint = 'epoch3'\n",
    "data_df = pd.read_pickle(f'./dataset/{dataset}/epoch3_generate_stage1_train_12000.pkl')\n",
    "data_df = data_df.sample(frac=1, random_state=42).reset_index(drop=True)\n",
    "\n",
    "train_data = []\n",
    "for idx, row in tqdm(data_df.iterrows(), total=len(data_df)):\n",
    "    question = row['stage2_prompt']\n",
    "    target_rating = row['ratings']\n",
    "    question = question.replace('@@@reasoning###', row[f'llama_stage1_reply'])\n",
    "    train_data.append({\n",
    "        \"messages\": [\n",
    "            {\n",
    "                \"role\": \"user\",\n",
    "                \"content\": question\n",
    "            },\n",
    "            {\n",
    "                \"role\": \"assistant\",\n",
    "                \"content\": f\"Predicted Rating: {float(target_rating):.1f}\"\n",
    "            }   \n",
    "        ]\n",
    "    })\n",
    "\n",
    "pickle.dump(train_data, open(f'./train_instruct_data/{dataset}/epoch3_generate_stage1_train_12000_stage2/train.pkl', 'wb'))"
   ]
  },
  {
   "cell_type": "code",
   "execution_count": null,
   "metadata": {},
   "outputs": [],
   "source": [
    "print(train_data[19]['messages'][1]['content'])"
   ]
  }
 ],
 "metadata": {
  "kernelspec": {
   "display_name": "my_unsloth",
   "language": "python",
   "name": "python3"
  },
  "language_info": {
   "codemirror_mode": {
    "name": "ipython",
    "version": 3
   },
   "file_extension": ".py",
   "mimetype": "text/x-python",
   "name": "python",
   "nbconvert_exporter": "python",
   "pygments_lexer": "ipython3",
   "version": "3.10.14"
  }
 },
 "nbformat": 4,
 "nbformat_minor": 2
}
